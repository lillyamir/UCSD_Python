{
 "cells": [
  {
   "cell_type": "markdown",
   "id": "3617e6cb",
   "metadata": {},
   "source": [
    "# The Privatization of Space"
   ]
  },
  {
   "cell_type": "markdown",
   "id": "ec8c68ba",
   "metadata": {},
   "source": [
    "### Import Libraries"
   ]
  },
  {
   "cell_type": "code",
   "execution_count": 1,
   "id": "bf5df2da",
   "metadata": {},
   "outputs": [],
   "source": [
    "import pandas as pd\n",
    "import numpy as np\n",
    "import matplotlib.pyplot as plt\n",
    "import seaborn as sns\n",
    "from sklearn.linear_model import LinearRegression\n",
    "import statsmodels.api as sm"
   ]
  },
  {
   "cell_type": "markdown",
   "id": "fed8ec6f",
   "metadata": {},
   "source": [
    "### Load the *Privatization of Space* Dataset"
   ]
  },
  {
   "cell_type": "code",
   "execution_count": 22,
   "id": "4ce8f90e",
   "metadata": {},
   "outputs": [
    {
     "data": {
      "text/html": [
       "<div>\n",
       "<style scoped>\n",
       "    .dataframe tbody tr th:only-of-type {\n",
       "        vertical-align: middle;\n",
       "    }\n",
       "\n",
       "    .dataframe tbody tr th {\n",
       "        vertical-align: top;\n",
       "    }\n",
       "\n",
       "    .dataframe thead th {\n",
       "        text-align: right;\n",
       "    }\n",
       "</style>\n",
       "<table border=\"1\" class=\"dataframe\">\n",
       "  <thead>\n",
       "    <tr style=\"text-align: right;\">\n",
       "      <th></th>\n",
       "      <th>Company Name</th>\n",
       "      <th>Location</th>\n",
       "      <th>Detail</th>\n",
       "      <th>Status Rocket</th>\n",
       "      <th>Rocket</th>\n",
       "      <th>Status Mission</th>\n",
       "      <th>Country of Launch</th>\n",
       "      <th>Companys Country of Origin</th>\n",
       "      <th>Private or State Run</th>\n",
       "      <th>DateTime</th>\n",
       "      <th>Year</th>\n",
       "      <th>Month</th>\n",
       "      <th>Day</th>\n",
       "      <th>Date</th>\n",
       "      <th>Time</th>\n",
       "    </tr>\n",
       "  </thead>\n",
       "  <tbody>\n",
       "    <tr>\n",
       "      <th>0</th>\n",
       "      <td>SpaceX</td>\n",
       "      <td>LC-39A, Kennedy Space Center, Florida, USA</td>\n",
       "      <td>Falcon 9 Block 5 | Starlink V1 L9 &amp; BlackSky</td>\n",
       "      <td>StatusActive</td>\n",
       "      <td>50.0</td>\n",
       "      <td>Success</td>\n",
       "      <td>USA</td>\n",
       "      <td>USA</td>\n",
       "      <td>P</td>\n",
       "      <td>2020-08-07 05:12:00+00:00</td>\n",
       "      <td>2020</td>\n",
       "      <td>8</td>\n",
       "      <td>7</td>\n",
       "      <td>07/08/2020</td>\n",
       "      <td>05:12</td>\n",
       "    </tr>\n",
       "    <tr>\n",
       "      <th>1</th>\n",
       "      <td>CASIC</td>\n",
       "      <td>Site 9401 (SLS-2), Jiuquan Satellite Launch Ce...</td>\n",
       "      <td>Long March 2D | Gaofen-9 04 &amp; Q-SAT</td>\n",
       "      <td>StatusActive</td>\n",
       "      <td>29.75</td>\n",
       "      <td>Success</td>\n",
       "      <td>China</td>\n",
       "      <td>China</td>\n",
       "      <td>S</td>\n",
       "      <td>2020-08-06 04:01:00+00:00</td>\n",
       "      <td>2020</td>\n",
       "      <td>8</td>\n",
       "      <td>6</td>\n",
       "      <td>06/08/2020</td>\n",
       "      <td>04:01</td>\n",
       "    </tr>\n",
       "    <tr>\n",
       "      <th>2</th>\n",
       "      <td>SpaceX</td>\n",
       "      <td>Pad A, Boca Chica, Texas, USA</td>\n",
       "      <td>Starship Prototype | 150 Meter Hop</td>\n",
       "      <td>StatusActive</td>\n",
       "      <td>NaN</td>\n",
       "      <td>Success</td>\n",
       "      <td>USA</td>\n",
       "      <td>USA</td>\n",
       "      <td>P</td>\n",
       "      <td>2020-08-04 23:57:00+00:00</td>\n",
       "      <td>2020</td>\n",
       "      <td>8</td>\n",
       "      <td>4</td>\n",
       "      <td>04/08/2020</td>\n",
       "      <td>23:57</td>\n",
       "    </tr>\n",
       "    <tr>\n",
       "      <th>3</th>\n",
       "      <td>Roscosmos</td>\n",
       "      <td>Site 200/39, Baikonur Cosmodrome, Kazakhstan</td>\n",
       "      <td>Proton-M/Briz-M | Ekspress-80 &amp; Ekspress-103</td>\n",
       "      <td>StatusActive</td>\n",
       "      <td>65.0</td>\n",
       "      <td>Success</td>\n",
       "      <td>Kazakhstan</td>\n",
       "      <td>Russia</td>\n",
       "      <td>S</td>\n",
       "      <td>2020-07-30 21:25:00+00:00</td>\n",
       "      <td>2020</td>\n",
       "      <td>7</td>\n",
       "      <td>30</td>\n",
       "      <td>30/07/2020</td>\n",
       "      <td>21:25</td>\n",
       "    </tr>\n",
       "    <tr>\n",
       "      <th>4</th>\n",
       "      <td>ULA</td>\n",
       "      <td>SLC-41, Cape Canaveral AFS, Florida, USA</td>\n",
       "      <td>Atlas V 541 | Perseverance</td>\n",
       "      <td>StatusActive</td>\n",
       "      <td>145.0</td>\n",
       "      <td>Success</td>\n",
       "      <td>USA</td>\n",
       "      <td>USA</td>\n",
       "      <td>P</td>\n",
       "      <td>2020-07-30 11:50:00+00:00</td>\n",
       "      <td>2020</td>\n",
       "      <td>7</td>\n",
       "      <td>30</td>\n",
       "      <td>30/07/2020</td>\n",
       "      <td>11:50</td>\n",
       "    </tr>\n",
       "  </tbody>\n",
       "</table>\n",
       "</div>"
      ],
      "text/plain": [
       "  Company Name                                           Location  \\\n",
       "0       SpaceX         LC-39A, Kennedy Space Center, Florida, USA   \n",
       "1        CASIC  Site 9401 (SLS-2), Jiuquan Satellite Launch Ce...   \n",
       "2       SpaceX                      Pad A, Boca Chica, Texas, USA   \n",
       "3    Roscosmos       Site 200/39, Baikonur Cosmodrome, Kazakhstan   \n",
       "4          ULA           SLC-41, Cape Canaveral AFS, Florida, USA   \n",
       "\n",
       "                                         Detail Status Rocket  Rocket  \\\n",
       "0  Falcon 9 Block 5 | Starlink V1 L9 & BlackSky  StatusActive   50.0    \n",
       "1           Long March 2D | Gaofen-9 04 & Q-SAT  StatusActive  29.75    \n",
       "2            Starship Prototype | 150 Meter Hop  StatusActive     NaN   \n",
       "3  Proton-M/Briz-M | Ekspress-80 & Ekspress-103  StatusActive   65.0    \n",
       "4                    Atlas V 541 | Perseverance  StatusActive  145.0    \n",
       "\n",
       "  Status Mission Country of Launch Companys Country of Origin  \\\n",
       "0        Success               USA                        USA   \n",
       "1        Success             China                      China   \n",
       "2        Success               USA                        USA   \n",
       "3        Success        Kazakhstan                     Russia   \n",
       "4        Success               USA                        USA   \n",
       "\n",
       "  Private or State Run                   DateTime  Year  Month  Day  \\\n",
       "0                    P  2020-08-07 05:12:00+00:00  2020      8    7   \n",
       "1                    S  2020-08-06 04:01:00+00:00  2020      8    6   \n",
       "2                    P  2020-08-04 23:57:00+00:00  2020      8    4   \n",
       "3                    S  2020-07-30 21:25:00+00:00  2020      7   30   \n",
       "4                    P  2020-07-30 11:50:00+00:00  2020      7   30   \n",
       "\n",
       "         Date   Time  \n",
       "0  07/08/2020  05:12  \n",
       "1  06/08/2020  04:01  \n",
       "2  04/08/2020  23:57  \n",
       "3  30/07/2020  21:25  \n",
       "4  30/07/2020  11:50  "
      ]
     },
     "execution_count": 22,
     "metadata": {},
     "output_type": "execute_result"
    }
   ],
   "source": [
    "dat = pd.read_csv('Global_Space_Launches.csv')\n",
    "dat.head()"
   ]
  },
  {
   "cell_type": "markdown",
   "id": "7d39db15",
   "metadata": {},
   "source": [
    "### Now let's bring in the NASA budget Dataset"
   ]
  },
  {
   "cell_type": "code",
   "execution_count": 23,
   "id": "06ef3dda",
   "metadata": {},
   "outputs": [
    {
     "data": {
      "text/html": [
       "<div>\n",
       "<style scoped>\n",
       "    .dataframe tbody tr th:only-of-type {\n",
       "        vertical-align: middle;\n",
       "    }\n",
       "\n",
       "    .dataframe tbody tr th {\n",
       "        vertical-align: top;\n",
       "    }\n",
       "\n",
       "    .dataframe thead th {\n",
       "        text-align: right;\n",
       "    }\n",
       "</style>\n",
       "<table border=\"1\" class=\"dataframe\">\n",
       "  <thead>\n",
       "    <tr style=\"text-align: right;\">\n",
       "      <th></th>\n",
       "      <th>Year</th>\n",
       "      <th>White House Budget Submission (In Millions of USD)</th>\n",
       "      <th>% of U.S.  Spending</th>\n",
       "    </tr>\n",
       "  </thead>\n",
       "  <tbody>\n",
       "    <tr>\n",
       "      <th>0</th>\n",
       "      <td>1959</td>\n",
       "      <td>427.0</td>\n",
       "      <td>0.0016</td>\n",
       "    </tr>\n",
       "    <tr>\n",
       "      <th>1</th>\n",
       "      <td>1960</td>\n",
       "      <td>508.0</td>\n",
       "      <td>0.0043</td>\n",
       "    </tr>\n",
       "    <tr>\n",
       "      <th>2</th>\n",
       "      <td>1961</td>\n",
       "      <td>965.0</td>\n",
       "      <td>0.0076</td>\n",
       "    </tr>\n",
       "    <tr>\n",
       "      <th>3</th>\n",
       "      <td>1962</td>\n",
       "      <td>1940.0</td>\n",
       "      <td>0.0118</td>\n",
       "    </tr>\n",
       "    <tr>\n",
       "      <th>4</th>\n",
       "      <td>1963</td>\n",
       "      <td>3787.0</td>\n",
       "      <td>0.0229</td>\n",
       "    </tr>\n",
       "    <tr>\n",
       "      <th>...</th>\n",
       "      <td>...</td>\n",
       "      <td>...</td>\n",
       "      <td>...</td>\n",
       "    </tr>\n",
       "    <tr>\n",
       "      <th>65</th>\n",
       "      <td>2024</td>\n",
       "      <td>27185.0</td>\n",
       "      <td>NaN</td>\n",
       "    </tr>\n",
       "    <tr>\n",
       "      <th>66</th>\n",
       "      <td>2025</td>\n",
       "      <td>27728.7</td>\n",
       "      <td>NaN</td>\n",
       "    </tr>\n",
       "    <tr>\n",
       "      <th>67</th>\n",
       "      <td>2026</td>\n",
       "      <td>28283.2</td>\n",
       "      <td>NaN</td>\n",
       "    </tr>\n",
       "    <tr>\n",
       "      <th>68</th>\n",
       "      <td>2027</td>\n",
       "      <td>28848.9</td>\n",
       "      <td>NaN</td>\n",
       "    </tr>\n",
       "    <tr>\n",
       "      <th>69</th>\n",
       "      <td>2028</td>\n",
       "      <td>29425.8</td>\n",
       "      <td>NaN</td>\n",
       "    </tr>\n",
       "  </tbody>\n",
       "</table>\n",
       "<p>70 rows × 3 columns</p>\n",
       "</div>"
      ],
      "text/plain": [
       "    Year  White House Budget Submission (In Millions of USD)  \\\n",
       "0   1959                                              427.0    \n",
       "1   1960                                              508.0    \n",
       "2   1961                                              965.0    \n",
       "3   1962                                             1940.0    \n",
       "4   1963                                             3787.0    \n",
       "..   ...                                                ...    \n",
       "65  2024                                            27185.0    \n",
       "66  2025                                            27728.7    \n",
       "67  2026                                            28283.2    \n",
       "68  2027                                            28848.9    \n",
       "69  2028                                            29425.8    \n",
       "\n",
       "    % of U.S.  Spending  \n",
       "0                0.0016  \n",
       "1                0.0043  \n",
       "2                0.0076  \n",
       "3                0.0118  \n",
       "4                0.0229  \n",
       "..                  ...  \n",
       "65                  NaN  \n",
       "66                  NaN  \n",
       "67                  NaN  \n",
       "68                  NaN  \n",
       "69                  NaN  \n",
       "\n",
       "[70 rows x 3 columns]"
      ]
     },
     "execution_count": 23,
     "metadata": {},
     "output_type": "execute_result"
    }
   ],
   "source": [
    "budget = pd.read_csv('NASA_yearly_budget.csv')\n",
    "budget"
   ]
  },
  {
   "cell_type": "markdown",
   "id": "7a89e08c",
   "metadata": {},
   "source": [
    "### Dataset Merging"
   ]
  },
  {
   "cell_type": "code",
   "execution_count": 24,
   "id": "982c8250",
   "metadata": {},
   "outputs": [],
   "source": [
    "dat = pd.merge(budget, dat, on='Year', how='inner')\n"
   ]
  },
  {
   "cell_type": "markdown",
   "id": "95d1cd13",
   "metadata": {},
   "source": [
    "### Initial dataset analytics\n",
    "\n",
    "Observe the first few rows"
   ]
  },
  {
   "cell_type": "code",
   "execution_count": 25,
   "id": "e67b7168",
   "metadata": {},
   "outputs": [
    {
     "data": {
      "text/html": [
       "<div>\n",
       "<style scoped>\n",
       "    .dataframe tbody tr th:only-of-type {\n",
       "        vertical-align: middle;\n",
       "    }\n",
       "\n",
       "    .dataframe tbody tr th {\n",
       "        vertical-align: top;\n",
       "    }\n",
       "\n",
       "    .dataframe thead th {\n",
       "        text-align: right;\n",
       "    }\n",
       "</style>\n",
       "<table border=\"1\" class=\"dataframe\">\n",
       "  <thead>\n",
       "    <tr style=\"text-align: right;\">\n",
       "      <th></th>\n",
       "      <th>Year</th>\n",
       "      <th>White House Budget Submission (In Millions of USD)</th>\n",
       "      <th>% of U.S.  Spending</th>\n",
       "      <th>Company Name</th>\n",
       "      <th>Location</th>\n",
       "      <th>Detail</th>\n",
       "      <th>Status Rocket</th>\n",
       "      <th>Rocket</th>\n",
       "      <th>Status Mission</th>\n",
       "      <th>Country of Launch</th>\n",
       "      <th>Companys Country of Origin</th>\n",
       "      <th>Private or State Run</th>\n",
       "      <th>DateTime</th>\n",
       "      <th>Month</th>\n",
       "      <th>Day</th>\n",
       "      <th>Date</th>\n",
       "      <th>Time</th>\n",
       "    </tr>\n",
       "  </thead>\n",
       "  <tbody>\n",
       "    <tr>\n",
       "      <th>0</th>\n",
       "      <td>1959</td>\n",
       "      <td>427.0</td>\n",
       "      <td>0.0016</td>\n",
       "      <td>General Dynamics</td>\n",
       "      <td>LC-14, Cape Canaveral AFS, Florida, USA</td>\n",
       "      <td>Atlas-D Able | Pioneer P-3</td>\n",
       "      <td>StatusRetired</td>\n",
       "      <td>NaN</td>\n",
       "      <td>Failure</td>\n",
       "      <td>USA</td>\n",
       "      <td>USA</td>\n",
       "      <td>P</td>\n",
       "      <td>1959-11-26 07:26:00+00:00</td>\n",
       "      <td>11</td>\n",
       "      <td>26</td>\n",
       "      <td>26/11/1959</td>\n",
       "      <td>07:26</td>\n",
       "    </tr>\n",
       "    <tr>\n",
       "      <th>1</th>\n",
       "      <td>1959</td>\n",
       "      <td>427.0</td>\n",
       "      <td>0.0016</td>\n",
       "      <td>US Air Force</td>\n",
       "      <td>SLC-1E (75-3-5), Vandenberg AFB, California, USA</td>\n",
       "      <td>Thor-DM18 Agena-A | Discoverer 8</td>\n",
       "      <td>StatusRetired</td>\n",
       "      <td>NaN</td>\n",
       "      <td>Failure</td>\n",
       "      <td>USA</td>\n",
       "      <td>USA</td>\n",
       "      <td>S</td>\n",
       "      <td>1959-11-20 19:25:00+00:00</td>\n",
       "      <td>11</td>\n",
       "      <td>20</td>\n",
       "      <td>20/11/1959</td>\n",
       "      <td>19:25</td>\n",
       "    </tr>\n",
       "    <tr>\n",
       "      <th>2</th>\n",
       "      <td>1959</td>\n",
       "      <td>427.0</td>\n",
       "      <td>0.0016</td>\n",
       "      <td>US Air Force</td>\n",
       "      <td>SLC-1W (75-3-4), Vandenberg AFB, California, USA</td>\n",
       "      <td>Thor-DM18 Agena-A | Discoverer 7</td>\n",
       "      <td>StatusRetired</td>\n",
       "      <td>NaN</td>\n",
       "      <td>Success</td>\n",
       "      <td>USA</td>\n",
       "      <td>USA</td>\n",
       "      <td>S</td>\n",
       "      <td>1959-11-07 20:28:00+00:00</td>\n",
       "      <td>11</td>\n",
       "      <td>7</td>\n",
       "      <td>07/11/1959</td>\n",
       "      <td>20:28</td>\n",
       "    </tr>\n",
       "    <tr>\n",
       "      <th>3</th>\n",
       "      <td>1959</td>\n",
       "      <td>427.0</td>\n",
       "      <td>0.0016</td>\n",
       "      <td>RVSN USSR</td>\n",
       "      <td>Site 1/5, Baikonur Cosmodrome, Kazakhstan</td>\n",
       "      <td>Vostok | Luna-3</td>\n",
       "      <td>StatusRetired</td>\n",
       "      <td>NaN</td>\n",
       "      <td>Success</td>\n",
       "      <td>Kazakhstan</td>\n",
       "      <td>Russia</td>\n",
       "      <td>S</td>\n",
       "      <td>1959-10-04 00:43:00+00:00</td>\n",
       "      <td>10</td>\n",
       "      <td>4</td>\n",
       "      <td>04/10/1959</td>\n",
       "      <td>00:43</td>\n",
       "    </tr>\n",
       "    <tr>\n",
       "      <th>4</th>\n",
       "      <td>1959</td>\n",
       "      <td>427.0</td>\n",
       "      <td>0.0016</td>\n",
       "      <td>US Navy</td>\n",
       "      <td>LC-18A, Cape Canaveral AFS, Florida, USA</td>\n",
       "      <td>Vanguard | Vanguard 3</td>\n",
       "      <td>StatusRetired</td>\n",
       "      <td>NaN</td>\n",
       "      <td>Partial Failure</td>\n",
       "      <td>USA</td>\n",
       "      <td>USA</td>\n",
       "      <td>S</td>\n",
       "      <td>1959-09-18 05:20:00+00:00</td>\n",
       "      <td>9</td>\n",
       "      <td>18</td>\n",
       "      <td>18/09/1959</td>\n",
       "      <td>05:20</td>\n",
       "    </tr>\n",
       "  </tbody>\n",
       "</table>\n",
       "</div>"
      ],
      "text/plain": [
       "   Year  White House Budget Submission (In Millions of USD)  \\\n",
       "0  1959                                              427.0    \n",
       "1  1959                                              427.0    \n",
       "2  1959                                              427.0    \n",
       "3  1959                                              427.0    \n",
       "4  1959                                              427.0    \n",
       "\n",
       "   % of U.S.  Spending      Company Name  \\\n",
       "0               0.0016  General Dynamics   \n",
       "1               0.0016      US Air Force   \n",
       "2               0.0016      US Air Force   \n",
       "3               0.0016         RVSN USSR   \n",
       "4               0.0016           US Navy   \n",
       "\n",
       "                                           Location  \\\n",
       "0           LC-14, Cape Canaveral AFS, Florida, USA   \n",
       "1  SLC-1E (75-3-5), Vandenberg AFB, California, USA   \n",
       "2  SLC-1W (75-3-4), Vandenberg AFB, California, USA   \n",
       "3         Site 1/5, Baikonur Cosmodrome, Kazakhstan   \n",
       "4          LC-18A, Cape Canaveral AFS, Florida, USA   \n",
       "\n",
       "                             Detail  Status Rocket  Rocket   Status Mission  \\\n",
       "0        Atlas-D Able | Pioneer P-3  StatusRetired     NaN          Failure   \n",
       "1  Thor-DM18 Agena-A | Discoverer 8  StatusRetired     NaN          Failure   \n",
       "2  Thor-DM18 Agena-A | Discoverer 7  StatusRetired     NaN          Success   \n",
       "3                   Vostok | Luna-3  StatusRetired     NaN          Success   \n",
       "4             Vanguard | Vanguard 3  StatusRetired     NaN  Partial Failure   \n",
       "\n",
       "  Country of Launch Companys Country of Origin Private or State Run  \\\n",
       "0               USA                        USA                    P   \n",
       "1               USA                        USA                    S   \n",
       "2               USA                        USA                    S   \n",
       "3        Kazakhstan                     Russia                    S   \n",
       "4               USA                        USA                    S   \n",
       "\n",
       "                    DateTime  Month  Day        Date   Time  \n",
       "0  1959-11-26 07:26:00+00:00     11   26  26/11/1959  07:26  \n",
       "1  1959-11-20 19:25:00+00:00     11   20  20/11/1959  19:25  \n",
       "2  1959-11-07 20:28:00+00:00     11    7  07/11/1959  20:28  \n",
       "3  1959-10-04 00:43:00+00:00     10    4  04/10/1959  00:43  \n",
       "4  1959-09-18 05:20:00+00:00      9   18  18/09/1959  05:20  "
      ]
     },
     "execution_count": 25,
     "metadata": {},
     "output_type": "execute_result"
    }
   ],
   "source": [
    "dat.head()"
   ]
  },
  {
   "cell_type": "markdown",
   "id": "f58af3ec",
   "metadata": {},
   "source": [
    "List all the unique column values"
   ]
  },
  {
   "cell_type": "code",
   "execution_count": 26,
   "id": "3cf6f3d8",
   "metadata": {},
   "outputs": [
    {
     "data": {
      "text/plain": [
       "['Year',\n",
       " 'White House Budget Submission (In Millions of USD)',\n",
       " '% of U.S.  Spending',\n",
       " 'Company Name',\n",
       " 'Location',\n",
       " 'Detail',\n",
       " 'Status Rocket',\n",
       " ' Rocket',\n",
       " 'Status Mission',\n",
       " 'Country of Launch',\n",
       " 'Companys Country of Origin',\n",
       " 'Private or State Run',\n",
       " 'DateTime',\n",
       " 'Month',\n",
       " 'Day',\n",
       " 'Date',\n",
       " 'Time']"
      ]
     },
     "execution_count": 26,
     "metadata": {},
     "output_type": "execute_result"
    }
   ],
   "source": [
    "dat.columns.to_list()"
   ]
  },
  {
   "cell_type": "markdown",
   "id": "0d719b9f",
   "metadata": {},
   "source": [
    "Remove unnessary columns from the dataset"
   ]
  },
  {
   "cell_type": "code",
   "execution_count": 27,
   "id": "d54951d0",
   "metadata": {},
   "outputs": [
    {
     "data": {
      "text/html": [
       "<div>\n",
       "<style scoped>\n",
       "    .dataframe tbody tr th:only-of-type {\n",
       "        vertical-align: middle;\n",
       "    }\n",
       "\n",
       "    .dataframe tbody tr th {\n",
       "        vertical-align: top;\n",
       "    }\n",
       "\n",
       "    .dataframe thead th {\n",
       "        text-align: right;\n",
       "    }\n",
       "</style>\n",
       "<table border=\"1\" class=\"dataframe\">\n",
       "  <thead>\n",
       "    <tr style=\"text-align: right;\">\n",
       "      <th></th>\n",
       "      <th>Year</th>\n",
       "      <th>White House Budget Submission (In Millions of USD)</th>\n",
       "      <th>% of U.S.  Spending</th>\n",
       "      <th>Company Name</th>\n",
       "      <th>Status Rocket</th>\n",
       "      <th>Rocket</th>\n",
       "      <th>Status Mission</th>\n",
       "      <th>Country of Launch</th>\n",
       "      <th>Companys Country of Origin</th>\n",
       "      <th>Private or State Run</th>\n",
       "      <th>DateTime</th>\n",
       "      <th>Date</th>\n",
       "    </tr>\n",
       "  </thead>\n",
       "  <tbody>\n",
       "    <tr>\n",
       "      <th>0</th>\n",
       "      <td>1959</td>\n",
       "      <td>427.0</td>\n",
       "      <td>0.0016</td>\n",
       "      <td>General Dynamics</td>\n",
       "      <td>StatusRetired</td>\n",
       "      <td>NaN</td>\n",
       "      <td>Failure</td>\n",
       "      <td>USA</td>\n",
       "      <td>USA</td>\n",
       "      <td>P</td>\n",
       "      <td>1959-11-26 07:26:00+00:00</td>\n",
       "      <td>26/11/1959</td>\n",
       "    </tr>\n",
       "    <tr>\n",
       "      <th>1</th>\n",
       "      <td>1959</td>\n",
       "      <td>427.0</td>\n",
       "      <td>0.0016</td>\n",
       "      <td>US Air Force</td>\n",
       "      <td>StatusRetired</td>\n",
       "      <td>NaN</td>\n",
       "      <td>Failure</td>\n",
       "      <td>USA</td>\n",
       "      <td>USA</td>\n",
       "      <td>S</td>\n",
       "      <td>1959-11-20 19:25:00+00:00</td>\n",
       "      <td>20/11/1959</td>\n",
       "    </tr>\n",
       "    <tr>\n",
       "      <th>2</th>\n",
       "      <td>1959</td>\n",
       "      <td>427.0</td>\n",
       "      <td>0.0016</td>\n",
       "      <td>US Air Force</td>\n",
       "      <td>StatusRetired</td>\n",
       "      <td>NaN</td>\n",
       "      <td>Success</td>\n",
       "      <td>USA</td>\n",
       "      <td>USA</td>\n",
       "      <td>S</td>\n",
       "      <td>1959-11-07 20:28:00+00:00</td>\n",
       "      <td>07/11/1959</td>\n",
       "    </tr>\n",
       "    <tr>\n",
       "      <th>3</th>\n",
       "      <td>1959</td>\n",
       "      <td>427.0</td>\n",
       "      <td>0.0016</td>\n",
       "      <td>RVSN USSR</td>\n",
       "      <td>StatusRetired</td>\n",
       "      <td>NaN</td>\n",
       "      <td>Success</td>\n",
       "      <td>Kazakhstan</td>\n",
       "      <td>Russia</td>\n",
       "      <td>S</td>\n",
       "      <td>1959-10-04 00:43:00+00:00</td>\n",
       "      <td>04/10/1959</td>\n",
       "    </tr>\n",
       "    <tr>\n",
       "      <th>4</th>\n",
       "      <td>1959</td>\n",
       "      <td>427.0</td>\n",
       "      <td>0.0016</td>\n",
       "      <td>US Navy</td>\n",
       "      <td>StatusRetired</td>\n",
       "      <td>NaN</td>\n",
       "      <td>Partial Failure</td>\n",
       "      <td>USA</td>\n",
       "      <td>USA</td>\n",
       "      <td>S</td>\n",
       "      <td>1959-09-18 05:20:00+00:00</td>\n",
       "      <td>18/09/1959</td>\n",
       "    </tr>\n",
       "  </tbody>\n",
       "</table>\n",
       "</div>"
      ],
      "text/plain": [
       "   Year  White House Budget Submission (In Millions of USD)  \\\n",
       "0  1959                                              427.0    \n",
       "1  1959                                              427.0    \n",
       "2  1959                                              427.0    \n",
       "3  1959                                              427.0    \n",
       "4  1959                                              427.0    \n",
       "\n",
       "   % of U.S.  Spending      Company Name  Status Rocket  Rocket  \\\n",
       "0               0.0016  General Dynamics  StatusRetired     NaN   \n",
       "1               0.0016      US Air Force  StatusRetired     NaN   \n",
       "2               0.0016      US Air Force  StatusRetired     NaN   \n",
       "3               0.0016         RVSN USSR  StatusRetired     NaN   \n",
       "4               0.0016           US Navy  StatusRetired     NaN   \n",
       "\n",
       "    Status Mission Country of Launch Companys Country of Origin  \\\n",
       "0          Failure               USA                        USA   \n",
       "1          Failure               USA                        USA   \n",
       "2          Success               USA                        USA   \n",
       "3          Success        Kazakhstan                     Russia   \n",
       "4  Partial Failure               USA                        USA   \n",
       "\n",
       "  Private or State Run                   DateTime        Date  \n",
       "0                    P  1959-11-26 07:26:00+00:00  26/11/1959  \n",
       "1                    S  1959-11-20 19:25:00+00:00  20/11/1959  \n",
       "2                    S  1959-11-07 20:28:00+00:00  07/11/1959  \n",
       "3                    S  1959-10-04 00:43:00+00:00  04/10/1959  \n",
       "4                    S  1959-09-18 05:20:00+00:00  18/09/1959  "
      ]
     },
     "execution_count": 27,
     "metadata": {},
     "output_type": "execute_result"
    }
   ],
   "source": [
    "cols_to_drop = [\n",
    "    'Detail', \n",
    "    'Location', \n",
    "    'Month', 'Day', \n",
    "    'Time',]\n",
    "dat = dat.drop(columns=cols_to_drop)\n",
    "\n",
    "dat.head()"
   ]
  },
  {
   "cell_type": "markdown",
   "id": "a9f242a9",
   "metadata": {},
   "source": [
    "Rename columns to make more sense"
   ]
  },
  {
   "cell_type": "code",
   "execution_count": 28,
   "id": "b75981b7",
   "metadata": {},
   "outputs": [],
   "source": [
    "dat['% of U.S. Spending'] = dat['% of U.S.  Spending']\n",
    "dat.drop(columns=['% of U.S.  Spending'], inplace=True)"
   ]
  },
  {
   "cell_type": "markdown",
   "id": "0b67bf83",
   "metadata": {},
   "source": [
    "Subset the data for the U.S. since 1959"
   ]
  },
  {
   "cell_type": "code",
   "execution_count": 29,
   "id": "4306209f",
   "metadata": {},
   "outputs": [
    {
     "data": {
      "text/html": [
       "<div>\n",
       "<style scoped>\n",
       "    .dataframe tbody tr th:only-of-type {\n",
       "        vertical-align: middle;\n",
       "    }\n",
       "\n",
       "    .dataframe tbody tr th {\n",
       "        vertical-align: top;\n",
       "    }\n",
       "\n",
       "    .dataframe thead th {\n",
       "        text-align: right;\n",
       "    }\n",
       "</style>\n",
       "<table border=\"1\" class=\"dataframe\">\n",
       "  <thead>\n",
       "    <tr style=\"text-align: right;\">\n",
       "      <th></th>\n",
       "      <th>Year</th>\n",
       "      <th>White House Budget Submission (In Millions of USD)</th>\n",
       "      <th>Company Name</th>\n",
       "      <th>Status Rocket</th>\n",
       "      <th>Rocket</th>\n",
       "      <th>Status Mission</th>\n",
       "      <th>Country of Launch</th>\n",
       "      <th>Companys Country of Origin</th>\n",
       "      <th>Private or State Run</th>\n",
       "      <th>DateTime</th>\n",
       "      <th>Date</th>\n",
       "      <th>% of U.S. Spending</th>\n",
       "    </tr>\n",
       "  </thead>\n",
       "  <tbody>\n",
       "    <tr>\n",
       "      <th>0</th>\n",
       "      <td>1959</td>\n",
       "      <td>427.0</td>\n",
       "      <td>General Dynamics</td>\n",
       "      <td>StatusRetired</td>\n",
       "      <td>NaN</td>\n",
       "      <td>Failure</td>\n",
       "      <td>USA</td>\n",
       "      <td>USA</td>\n",
       "      <td>P</td>\n",
       "      <td>1959-11-26 07:26:00+00:00</td>\n",
       "      <td>26/11/1959</td>\n",
       "      <td>0.0016</td>\n",
       "    </tr>\n",
       "    <tr>\n",
       "      <th>1</th>\n",
       "      <td>1959</td>\n",
       "      <td>427.0</td>\n",
       "      <td>US Air Force</td>\n",
       "      <td>StatusRetired</td>\n",
       "      <td>NaN</td>\n",
       "      <td>Failure</td>\n",
       "      <td>USA</td>\n",
       "      <td>USA</td>\n",
       "      <td>S</td>\n",
       "      <td>1959-11-20 19:25:00+00:00</td>\n",
       "      <td>20/11/1959</td>\n",
       "      <td>0.0016</td>\n",
       "    </tr>\n",
       "    <tr>\n",
       "      <th>2</th>\n",
       "      <td>1959</td>\n",
       "      <td>427.0</td>\n",
       "      <td>US Air Force</td>\n",
       "      <td>StatusRetired</td>\n",
       "      <td>NaN</td>\n",
       "      <td>Success</td>\n",
       "      <td>USA</td>\n",
       "      <td>USA</td>\n",
       "      <td>S</td>\n",
       "      <td>1959-11-07 20:28:00+00:00</td>\n",
       "      <td>07/11/1959</td>\n",
       "      <td>0.0016</td>\n",
       "    </tr>\n",
       "    <tr>\n",
       "      <th>4</th>\n",
       "      <td>1959</td>\n",
       "      <td>427.0</td>\n",
       "      <td>US Navy</td>\n",
       "      <td>StatusRetired</td>\n",
       "      <td>NaN</td>\n",
       "      <td>Partial Failure</td>\n",
       "      <td>USA</td>\n",
       "      <td>USA</td>\n",
       "      <td>S</td>\n",
       "      <td>1959-09-18 05:20:00+00:00</td>\n",
       "      <td>18/09/1959</td>\n",
       "      <td>0.0016</td>\n",
       "    </tr>\n",
       "    <tr>\n",
       "      <th>5</th>\n",
       "      <td>1959</td>\n",
       "      <td>427.0</td>\n",
       "      <td>US Air Force</td>\n",
       "      <td>StatusRetired</td>\n",
       "      <td>NaN</td>\n",
       "      <td>Failure</td>\n",
       "      <td>USA</td>\n",
       "      <td>USA</td>\n",
       "      <td>S</td>\n",
       "      <td>1959-09-17 14:34:00+00:00</td>\n",
       "      <td>17/09/1959</td>\n",
       "      <td>0.0016</td>\n",
       "    </tr>\n",
       "  </tbody>\n",
       "</table>\n",
       "</div>"
      ],
      "text/plain": [
       "   Year  White House Budget Submission (In Millions of USD)      Company Name  \\\n",
       "0  1959                                              427.0   General Dynamics   \n",
       "1  1959                                              427.0       US Air Force   \n",
       "2  1959                                              427.0       US Air Force   \n",
       "4  1959                                              427.0            US Navy   \n",
       "5  1959                                              427.0       US Air Force   \n",
       "\n",
       "   Status Rocket  Rocket   Status Mission Country of Launch  \\\n",
       "0  StatusRetired     NaN          Failure               USA   \n",
       "1  StatusRetired     NaN          Failure               USA   \n",
       "2  StatusRetired     NaN          Success               USA   \n",
       "4  StatusRetired     NaN  Partial Failure               USA   \n",
       "5  StatusRetired     NaN          Failure               USA   \n",
       "\n",
       "  Companys Country of Origin Private or State Run                   DateTime  \\\n",
       "0                        USA                    P  1959-11-26 07:26:00+00:00   \n",
       "1                        USA                    S  1959-11-20 19:25:00+00:00   \n",
       "2                        USA                    S  1959-11-07 20:28:00+00:00   \n",
       "4                        USA                    S  1959-09-18 05:20:00+00:00   \n",
       "5                        USA                    S  1959-09-17 14:34:00+00:00   \n",
       "\n",
       "         Date  % of U.S. Spending  \n",
       "0  26/11/1959              0.0016  \n",
       "1  20/11/1959              0.0016  \n",
       "2  07/11/1959              0.0016  \n",
       "4  18/09/1959              0.0016  \n",
       "5  17/09/1959              0.0016  "
      ]
     },
     "execution_count": 29,
     "metadata": {},
     "output_type": "execute_result"
    }
   ],
   "source": [
    "countries = ['USA']\n",
    "dat = dat[dat['Country of Launch'].isin(countries)]\n",
    "dat = dat[dat['Year'] >= 1959]\n",
    "dat.head()"
   ]
  },
  {
   "cell_type": "markdown",
   "id": "e0bea595",
   "metadata": {},
   "source": [
    "How man rows(observations) do we have?"
   ]
  },
  {
   "cell_type": "code",
   "execution_count": 30,
   "id": "42a0f91d",
   "metadata": {},
   "outputs": [
    {
     "data": {
      "text/plain": [
       "1327"
      ]
     },
     "execution_count": 30,
     "metadata": {},
     "output_type": "execute_result"
    }
   ],
   "source": [
    "len(dat)"
   ]
  },
  {
   "cell_type": "markdown",
   "id": "bf7a9c24",
   "metadata": {},
   "source": [
    "### Observe Different Variable Values"
   ]
  },
  {
   "cell_type": "markdown",
   "id": "0ba0c3b0",
   "metadata": {},
   "source": [
    "What are the unique values for all the companies in the dataset? What organization has the most launches since the ISS was launched in 1998?"
   ]
  },
  {
   "cell_type": "code",
   "execution_count": 31,
   "id": "66f19243",
   "metadata": {},
   "outputs": [
    {
     "data": {
      "image/png": "[encoded data removed]",
      "text/plain": [
       "<Figure size 1440x720 with 1 Axes>"
      ]
     },
     "metadata": {},
     "output_type": "display_data"
    }
   ],
   "source": [
    "plt.figure(figsize=(20, 10))\n",
    "x = sns.countplot(x=dat[\"Company Name\"])\n",
    "plt.title('Number of Launches per Organization')\n",
    "for item in x.get_xticklabels():\n",
    "    item.set_rotation(90)"
   ]
  },
  {
   "cell_type": "markdown",
   "id": "d5b55607",
   "metadata": {},
   "source": [
    "How has the NASA budget (as a proportion of the total budget and in USD) changed over time?"
   ]
  },
  {
   "cell_type": "code",
   "execution_count": 32,
   "id": "475b6b39",
   "metadata": {},
   "outputs": [
    {
     "data": {
      "text/plain": [
       "<AxesSubplot:xlabel='Year', ylabel='White House Budget Submission (In Millions of USD)'>"
      ]
     },
     "execution_count": 32,
     "metadata": {},
     "output_type": "execute_result"
    },
    {
     "data": {
      "image/png": "[encoded data removed]",
      "text/plain": [
       "<Figure size 576x432 with 1 Axes>"
      ]
     },
     "metadata": {},
     "output_type": "display_data"
    }
   ],
   "source": [
    "sns.set(style=\"whitegrid\")  # Set the style\n",
    "plt.figure(figsize=(8, 6))  # Set the figure size\n",
    "sns.lineplot(y=dat['White House Budget Submission (In Millions of USD)'], x=dat['Year'], label=\"Line 1\")  # Plot the first line"
   ]
  },
  {
   "cell_type": "code",
   "execution_count": 33,
   "id": "e74ef69c",
   "metadata": {},
   "outputs": [
    {
     "data": {
      "text/plain": [
       "<AxesSubplot:xlabel='Year', ylabel='% of U.S. Spending'>"
      ]
     },
     "execution_count": 33,
     "metadata": {},
     "output_type": "execute_result"
    },
    {
     "data": {
      "image/png": "[encoded data removed]",
      "text/plain": [
       "<Figure size 432x288 with 1 Axes>"
      ]
     },
     "metadata": {},
     "output_type": "display_data"
    }
   ],
   "source": [
    "sns.lineplot(y=dat['% of U.S. Spending'], x=dat['Year'], label=\"Line 1\")  # Plot the first line"
   ]
  },
  {
   "cell_type": "markdown",
   "id": "3e60e639",
   "metadata": {},
   "source": [
    "A barplot describing the number of launches per year, showing whether it was a private or state organization that conducted the launch."
   ]
  },
  {
   "cell_type": "code",
   "execution_count": 34,
   "id": "cfb5c177",
   "metadata": {},
   "outputs": [
    {
     "data": {
      "text/plain": [
       "<seaborn.axisgrid.FacetGrid at 0x7f9d3038e310>"
      ]
     },
     "execution_count": 34,
     "metadata": {},
     "output_type": "execute_result"
    },
    {
     "data": {
      "text/plain": [
       "<Figure size 576x432 with 0 Axes>"
      ]
     },
     "metadata": {},
     "output_type": "display_data"
    },
    {
     "data": {
      "image/png": "[encoded data removed]",
      "text/plain": [
       "<Figure size 477.05x360 with 1 Axes>"
      ]
     },
     "metadata": {},
     "output_type": "display_data"
    }
   ],
   "source": [
    "sns.set(style=\"whitegrid\")\n",
    "plt.figure(figsize=(8, 6))\n",
    "sns.displot(x='Year', hue='Private or State Run', data=dat)"
   ]
  },
  {
   "cell_type": "markdown",
   "id": "aecfc09a",
   "metadata": {},
   "source": [
    "Rocket launch success, divided by type (private/state)."
   ]
  },
  {
   "cell_type": "code",
   "execution_count": 35,
   "id": "af6d52ab",
   "metadata": {},
   "outputs": [
    {
     "data": {
      "text/plain": [
       "<AxesSubplot:xlabel='Status Mission', ylabel='Count'>"
      ]
     },
     "execution_count": 35,
     "metadata": {},
     "output_type": "execute_result"
    },
    {
     "data": {
      "image/png": "[encoded data removed]",
      "text/plain": [
       "<Figure size 432x288 with 1 Axes>"
      ]
     },
     "metadata": {},
     "output_type": "display_data"
    }
   ],
   "source": [
    "sns.histplot(\n",
    "    data=dat, x=\"Status Mission\", hue=\"Private or State Run\", multiple=\"dodge\", shrink=.8\n",
    ")"
   ]
  },
  {
   "cell_type": "markdown",
   "id": "918c87d2",
   "metadata": {},
   "source": [
    "But how does this look proportionally?"
   ]
  },
  {
   "cell_type": "code",
   "execution_count": 102,
   "id": "31c7c739",
   "metadata": {},
   "outputs": [
    {
     "data": {
      "image/png": "[encoded data removed]",
      "text/plain": [
       "<Figure size 1080x576 with 2 Axes>"
      ]
     },
     "metadata": {},
     "output_type": "display_data"
    }
   ],
   "source": [
    "# Calculate proportions for private launches\n",
    "private_proportions = dat[dat['Private or State Run'] == 'P'].groupby('Status Mission').size() / len(dat[dat['Private or State Run'] == 'P'])\n",
    "\n",
    "# Calculate proportions for state launches\n",
    "state_proportions = dat[dat['Private or State Run'] == 'S'].groupby('Status Mission').size() / len(dat[dat['Private or State Run'] == 'S'])\n",
    "\n",
    "# Create subplots\n",
    "fig, axes = plt.subplots(nrows=1, ncols=2, figsize=(15, 8))\n",
    "\n",
    "# Private launches plot\n",
    "sns.barplot(x=private_proportions.index, y=private_proportions.values, ax=axes[0])\n",
    "axes[0].set_title('Proportion of Rocket Success for Private Launches')\n",
    "axes[0].set_xlabel('Rocket Success')\n",
    "axes[0].set_ylabel('Proportion')\n",
    "axes[0].set_ylim(0, 1)  # Set y-axis limits to ensure proportions are within range\n",
    "\n",
    "# State launches plot\n",
    "sns.barplot(x=state_proportions.index, y=state_proportions.values, ax=axes[1])\n",
    "axes[1].set_title('Proportion of Rocket Success for State Launches')\n",
    "axes[1].set_xlabel('Rocket Success')\n",
    "axes[1].set_ylabel('Proportion')\n",
    "axes[1].set_ylim(0, 1)  # Set y-axis limits to ensure proportions are within range\n",
    "\n",
    "# Adjust layout\n",
    "plt.tight_layout()\n",
    "\n",
    "# Show the plots\n",
    "plt.show()\n",
    "\n"
   ]
  },
  {
   "cell_type": "markdown",
   "id": "7bbde52f",
   "metadata": {},
   "source": [
    "### Creating a Linear Regression Model\n",
    "\n",
    "I want to model the relationship between NASA's budget (as a proportion of the total U.S. budget) and the proportion of state-run launches for each year."
   ]
  },
  {
   "cell_type": "code",
   "execution_count": 37,
   "id": "c17e6d2f",
   "metadata": {},
   "outputs": [
    {
     "name": "stdout",
     "output_type": "stream",
     "text": [
      "                            OLS Regression Results                            \n",
      "==============================================================================\n",
      "Dep. Variable:                      y   R-squared:                       0.000\n",
      "Model:                            OLS   Adj. R-squared:                 -0.001\n",
      "Method:                 Least Squares   F-statistic:                   0.02560\n",
      "Date:                Fri, 01 Sep 2023   Prob (F-statistic):              0.873\n",
      "Time:                        09:08:22   Log-Likelihood:                 92.446\n",
      "No. Observations:                1079   AIC:                            -180.9\n",
      "Df Residuals:                    1077   BIC:                            -170.9\n",
      "Df Model:                           1                                         \n",
      "Covariance Type:            nonrobust                                         \n",
      "==============================================================================\n",
      "                 coef    std err          t      P>|t|      [0.025      0.975]\n",
      "------------------------------------------------------------------------------\n",
      "const          0.3396      0.011     32.077      0.000       0.319       0.360\n",
      "X             -0.0983      0.614     -0.160      0.873      -1.304       1.107\n",
      "==============================================================================\n",
      "Omnibus:                      171.617   Durbin-Watson:                   0.010\n",
      "Prob(Omnibus):                  0.000   Jarque-Bera (JB):              258.037\n",
      "Skew:                           1.180   Prob(JB):                     9.29e-57\n",
      "Kurtosis:                       3.410   Cond. No.                         90.8\n",
      "==============================================================================\n",
      "\n",
      "Notes:\n",
      "[1] Standard Errors assume that the covariance matrix of the errors is correctly specified.\n"
     ]
    },
    {
     "name": "stderr",
     "output_type": "stream",
     "text": [
      "/Users/lillyamirjavadi/opt/anaconda3/lib/python3.9/site-packages/statsmodels/tsa/tsatools.py:142: FutureWarning: In a future version of pandas all arguments of concat except for the argument 'objs' will be keyword-only\n",
      "  x = pd.concat(x[::order], 1)\n"
     ]
    }
   ],
   "source": [
    "state_proportions = dat[dat['Private or State Run'] == 'S'].groupby('Year').size() / dat.groupby('Year').size()\n",
    "\n",
    "# Prepare data for linear regression\n",
    "X = dat['% of U.S. Spending']\n",
    "y_proportions = dat['Year'].map(state_proportions)  # Use a different name for y\n",
    "\n",
    "# Combine X and y into a DataFrame\n",
    "regression_data = pd.DataFrame({'X': X, 'y': y_proportions})\n",
    "\n",
    "# Drop rows with missing values\n",
    "regression_data = regression_data.dropna()\n",
    "\n",
    "# Add a constant term to the predictor\n",
    "X = sm.add_constant(regression_data['X'])\n",
    "\n",
    "# Fit linear regression model\n",
    "model = sm.OLS(regression_data['y'], X).fit()\n",
    "\n",
    "# Print regression summary\n",
    "print(model.summary())\n"
   ]
  },
  {
   "cell_type": "code",
   "execution_count": 38,
   "id": "ced7e33f",
   "metadata": {},
   "outputs": [
    {
     "data": {
      "image/png": "[encoded data removed]",
      "text/plain": [
       "<Figure size 720x432 with 1 Axes>"
      ]
     },
     "metadata": {},
     "output_type": "display_data"
    }
   ],
   "source": [
    "sns.set(style=\"whitegrid\")\n",
    "plt.figure(figsize=(10, 6))\n",
    "sns.scatterplot(x='X', y='y', data=regression_data, color='blue')\n",
    "plt.plot(regression_data['X'], model.predict(X), color='red', linewidth=2, label='Trend Line')\n",
    "plt.xlabel('NASA Budget Proportion')\n",
    "plt.ylabel('Proportion of State-Run Launches')\n",
    "plt.title('Relationship between NASA Budget and Proportion of State-Run Launches')\n",
    "plt.legend()\n",
    "plt.show()"
   ]
  },
  {
   "cell_type": "markdown",
   "id": "10f6273d",
   "metadata": {},
   "source": [
    "Standardizing the independent variable"
   ]
  },
  {
   "cell_type": "code",
   "execution_count": 39,
   "id": "2b514bfa",
   "metadata": {},
   "outputs": [
    {
     "name": "stdout",
     "output_type": "stream",
     "text": [
      "                            OLS Regression Results                            \n",
      "==============================================================================\n",
      "Dep. Variable:                      y   R-squared:                       0.000\n",
      "Model:                            OLS   Adj. R-squared:                 -0.001\n",
      "Method:                 Least Squares   F-statistic:                   0.02560\n",
      "Date:                Fri, 01 Sep 2023   Prob (F-statistic):              0.873\n",
      "Time:                        09:08:22   Log-Likelihood:                 92.446\n",
      "No. Observations:                1079   AIC:                            -180.9\n",
      "Df Residuals:                    1077   BIC:                            -170.9\n",
      "Df Model:                           1                                         \n",
      "Covariance Type:            nonrobust                                         \n",
      "==============================================================================\n",
      "                 coef    std err          t      P>|t|      [0.025      0.975]\n",
      "------------------------------------------------------------------------------\n",
      "const          0.3384      0.007     49.569      0.000       0.325       0.352\n",
      "X             -0.0010      0.006     -0.160      0.873      -0.014       0.012\n",
      "==============================================================================\n",
      "Omnibus:                      171.617   Durbin-Watson:                   0.010\n",
      "Prob(Omnibus):                  0.000   Jarque-Bera (JB):              258.037\n",
      "Skew:                           1.180   Prob(JB):                     9.29e-57\n",
      "Kurtosis:                       3.410   Cond. No.                         1.16\n",
      "==============================================================================\n",
      "\n",
      "Notes:\n",
      "[1] Standard Errors assume that the covariance matrix of the errors is correctly specified.\n"
     ]
    },
    {
     "name": "stderr",
     "output_type": "stream",
     "text": [
      "/Users/lillyamirjavadi/opt/anaconda3/lib/python3.9/site-packages/statsmodels/tsa/tsatools.py:142: FutureWarning: In a future version of pandas all arguments of concat except for the argument 'objs' will be keyword-only\n",
      "  x = pd.concat(x[::order], 1)\n"
     ]
    }
   ],
   "source": [
    "from sklearn.preprocessing import StandardScaler\n",
    "\n",
    "\n",
    "# Calculate proportions of state-run launches for each year\n",
    "state_proportions = dat[dat['Private or State Run'] == 'S'].groupby('Year').size() / dat.groupby('Year').size()\n",
    "\n",
    "# Prepare data for linear regression\n",
    "X = dat['% of U.S. Spending']\n",
    "y = dat['Year'].map(state_proportions)\n",
    "\n",
    "# Standardize the independent variable\n",
    "scaler = StandardScaler()\n",
    "X_standardized = scaler.fit_transform(X.values.reshape(-1, 1))\n",
    "\n",
    "# Combine X and y into a DataFrame\n",
    "regression_data = pd.DataFrame({'X': X_standardized.flatten(), 'y': y})\n",
    "\n",
    "# Drop rows with missing values\n",
    "regression_data = regression_data.dropna()\n",
    "\n",
    "# Add a constant term to the predictor\n",
    "X = sm.add_constant(regression_data['X'])\n",
    "\n",
    "# Fit linear regression model\n",
    "model = sm.OLS(regression_data['y'], X).fit()\n",
    "\n",
    "# Print regression summary\n",
    "print(model.summary())\n"
   ]
  },
  {
   "cell_type": "code",
   "execution_count": 40,
   "id": "b52afc2f",
   "metadata": {},
   "outputs": [
    {
     "data": {
      "image/png": "[encoded data removed]",
      "text/plain": [
       "<Figure size 720x432 with 1 Axes>"
      ]
     },
     "metadata": {},
     "output_type": "display_data"
    }
   ],
   "source": [
    "sns.set(style=\"whitegrid\")\n",
    "plt.figure(figsize=(10, 6))\n",
    "sns.scatterplot(x='X', y='y', data=regression_data, color='blue')\n",
    "\n",
    "# Plot predicted values\n",
    "x_vals = np.linspace(X['X'].min(), X['X'].max(), 100)\n",
    "y_vals = model.predict(sm.add_constant(x_vals))\n",
    "plt.plot(x_vals, y_vals, color='red', linewidth=2, label='Predicted Values')\n",
    "\n",
    "plt.xlabel('Standardized NASA Budget Proportion')\n",
    "plt.ylabel('Proportion of State-Run Launches')\n",
    "plt.title('Standardized Linear Regression: Predicted Values')\n",
    "plt.legend()\n",
    "plt.show()"
   ]
  },
  {
   "cell_type": "markdown",
   "id": "3e5ebd30",
   "metadata": {},
   "source": [
    "### Analyzing launch cost \n",
    "\n",
    "There are a lot of missing values here. This would decrease the accuracy and xternal validity of results, but I think it is still a relationship worth exploring."
   ]
  },
  {
   "cell_type": "code",
   "execution_count": 41,
   "id": "b94656f2",
   "metadata": {},
   "outputs": [
    {
     "data": {
      "text/html": [
       "<div>\n",
       "<style scoped>\n",
       "    .dataframe tbody tr th:only-of-type {\n",
       "        vertical-align: middle;\n",
       "    }\n",
       "\n",
       "    .dataframe tbody tr th {\n",
       "        vertical-align: top;\n",
       "    }\n",
       "\n",
       "    .dataframe thead th {\n",
       "        text-align: right;\n",
       "    }\n",
       "</style>\n",
       "<table border=\"1\" class=\"dataframe\">\n",
       "  <thead>\n",
       "    <tr style=\"text-align: right;\">\n",
       "      <th></th>\n",
       "      <th>Year</th>\n",
       "      <th>White House Budget Submission (In Millions of USD)</th>\n",
       "      <th>Company Name</th>\n",
       "      <th>Status Rocket</th>\n",
       "      <th>Rocket</th>\n",
       "      <th>Status Mission</th>\n",
       "      <th>Country of Launch</th>\n",
       "      <th>Companys Country of Origin</th>\n",
       "      <th>Private or State Run</th>\n",
       "      <th>DateTime</th>\n",
       "      <th>Date</th>\n",
       "      <th>% of U.S. Spending</th>\n",
       "    </tr>\n",
       "  </thead>\n",
       "  <tbody>\n",
       "    <tr>\n",
       "      <th>0</th>\n",
       "      <td>1959</td>\n",
       "      <td>427.0</td>\n",
       "      <td>General Dynamics</td>\n",
       "      <td>StatusRetired</td>\n",
       "      <td>NaN</td>\n",
       "      <td>Failure</td>\n",
       "      <td>USA</td>\n",
       "      <td>USA</td>\n",
       "      <td>P</td>\n",
       "      <td>1959-11-26 07:26:00+00:00</td>\n",
       "      <td>26/11/1959</td>\n",
       "      <td>0.0016</td>\n",
       "    </tr>\n",
       "  </tbody>\n",
       "</table>\n",
       "</div>"
      ],
      "text/plain": [
       "   Year  White House Budget Submission (In Millions of USD)      Company Name  \\\n",
       "0  1959                                              427.0   General Dynamics   \n",
       "\n",
       "   Status Rocket  Rocket Status Mission Country of Launch  \\\n",
       "0  StatusRetired     NaN        Failure               USA   \n",
       "\n",
       "  Companys Country of Origin Private or State Run                   DateTime  \\\n",
       "0                        USA                    P  1959-11-26 07:26:00+00:00   \n",
       "\n",
       "         Date  % of U.S. Spending  \n",
       "0  26/11/1959              0.0016  "
      ]
     },
     "execution_count": 41,
     "metadata": {},
     "output_type": "execute_result"
    }
   ],
   "source": [
    "dat2 = dat\n",
    "dat2.head(1)"
   ]
  },
  {
   "cell_type": "code",
   "execution_count": 48,
   "id": "0b8d4d9d",
   "metadata": {},
   "outputs": [
    {
     "data": {
      "text/plain": [
       "Index(['Year', 'White House Budget Submission (In Millions of USD)',\n",
       "       'Company Name', 'Status Rocket', 'Cost', 'Status Mission',\n",
       "       'Country of Launch', 'Companys Country of Origin',\n",
       "       'Private or State Run', 'DateTime', 'Date', '% of U.S. Spending'],\n",
       "      dtype='object')"
      ]
     },
     "execution_count": 48,
     "metadata": {},
     "output_type": "execute_result"
    }
   ],
   "source": [
    "dat2.rename(columns = {' Rocket':'Cost'}, inplace = True)\n",
    "dat2.columns"
   ]
  },
  {
   "cell_type": "code",
   "execution_count": 55,
   "id": "e037c49c",
   "metadata": {},
   "outputs": [
    {
     "data": {
      "text/plain": [
       "837"
      ]
     },
     "execution_count": 55,
     "metadata": {},
     "output_type": "execute_result"
    }
   ],
   "source": [
    "dat2['Cost'].isnull().values.sum()\n"
   ]
  },
  {
   "cell_type": "code",
   "execution_count": 58,
   "id": "52a1b5ac",
   "metadata": {},
   "outputs": [
    {
     "data": {
      "text/plain": [
       "490"
      ]
     },
     "execution_count": 58,
     "metadata": {},
     "output_type": "execute_result"
    }
   ],
   "source": [
    "dat2 = dat2.dropna()\n",
    "dat2.head()\n",
    "len(dat2)"
   ]
  },
  {
   "cell_type": "code",
   "execution_count": 60,
   "id": "0bcf6a30",
   "metadata": {},
   "outputs": [
    {
     "data": {
      "text/plain": [
       "<AxesSubplot:xlabel='Private or State Run', ylabel='count'>"
      ]
     },
     "execution_count": 60,
     "metadata": {},
     "output_type": "execute_result"
    },
    {
     "data": {
      "image/png": "[encoded data removed]",
      "text/plain": [
       "<Figure size 1440x720 with 1 Axes>"
      ]
     },
     "metadata": {},
     "output_type": "display_data"
    }
   ],
   "source": [
    "plt.figure(figsize=(20, 10))\n",
    "x = sns.countplot(x=dat2[\"Private or State Run\"])\n",
    "x"
   ]
  },
  {
   "cell_type": "code",
   "execution_count": 91,
   "id": "38d7f736",
   "metadata": {},
   "outputs": [
    {
     "data": {
      "text/plain": [
       "<AxesSubplot:xlabel='Year', ylabel='Cost'>"
      ]
     },
     "execution_count": 91,
     "metadata": {},
     "output_type": "execute_result"
    },
    {
     "data": {
      "image/png": "[encoded data removed]",
      "text/plain": [
       "<Figure size 432x288 with 1 Axes>"
      ]
     },
     "metadata": {},
     "output_type": "display_data"
    }
   ],
   "source": [
    "sns.scatterplot(y=dat2['Cost'], x=dat2['Year'], hue = dat2['Private or State Run'])  # Plot the first line"
   ]
  },
  {
   "cell_type": "code",
   "execution_count": 84,
   "id": "d2236804",
   "metadata": {},
   "outputs": [
    {
     "data": {
      "text/html": [
       "<div>\n",
       "<style scoped>\n",
       "    .dataframe tbody tr th:only-of-type {\n",
       "        vertical-align: middle;\n",
       "    }\n",
       "\n",
       "    .dataframe tbody tr th {\n",
       "        vertical-align: top;\n",
       "    }\n",
       "\n",
       "    .dataframe thead th {\n",
       "        text-align: right;\n",
       "    }\n",
       "</style>\n",
       "<table border=\"1\" class=\"dataframe\">\n",
       "  <thead>\n",
       "    <tr style=\"text-align: right;\">\n",
       "      <th></th>\n",
       "      <th>Cost</th>\n",
       "      <th>Year</th>\n",
       "    </tr>\n",
       "  </thead>\n",
       "  <tbody>\n",
       "    <tr>\n",
       "      <th>235</th>\n",
       "      <td>63.23</td>\n",
       "      <td>1964</td>\n",
       "    </tr>\n",
       "    <tr>\n",
       "      <th>255</th>\n",
       "      <td>63.23</td>\n",
       "      <td>1964</td>\n",
       "    </tr>\n",
       "    <tr>\n",
       "      <th>353</th>\n",
       "      <td>63.23</td>\n",
       "      <td>1965</td>\n",
       "    </tr>\n",
       "    <tr>\n",
       "      <th>375</th>\n",
       "      <td>63.23</td>\n",
       "      <td>1965</td>\n",
       "    </tr>\n",
       "    <tr>\n",
       "      <th>385</th>\n",
       "      <td>59.00</td>\n",
       "      <td>1966</td>\n",
       "    </tr>\n",
       "    <tr>\n",
       "      <th>...</th>\n",
       "      <td>...</td>\n",
       "      <td>...</td>\n",
       "    </tr>\n",
       "    <tr>\n",
       "      <th>4099</th>\n",
       "      <td>145.00</td>\n",
       "      <td>2018</td>\n",
       "    </tr>\n",
       "    <tr>\n",
       "      <th>4101</th>\n",
       "      <td>62.00</td>\n",
       "      <td>2018</td>\n",
       "    </tr>\n",
       "    <tr>\n",
       "      <th>4104</th>\n",
       "      <td>90.00</td>\n",
       "      <td>2018</td>\n",
       "    </tr>\n",
       "    <tr>\n",
       "      <th>4108</th>\n",
       "      <td>62.00</td>\n",
       "      <td>2018</td>\n",
       "    </tr>\n",
       "    <tr>\n",
       "      <th>4112</th>\n",
       "      <td>115.00</td>\n",
       "      <td>2018</td>\n",
       "    </tr>\n",
       "  </tbody>\n",
       "</table>\n",
       "<p>450 rows × 2 columns</p>\n",
       "</div>"
      ],
      "text/plain": [
       "        Cost  Year\n",
       "235    63.23  1964\n",
       "255    63.23  1964\n",
       "353    63.23  1965\n",
       "375    63.23  1965\n",
       "385    59.00  1966\n",
       "...      ...   ...\n",
       "4099  145.00  2018\n",
       "4101   62.00  2018\n",
       "4104   90.00  2018\n",
       "4108   62.00  2018\n",
       "4112  115.00  2018\n",
       "\n",
       "[450 rows x 2 columns]"
      ]
     },
     "execution_count": 84,
     "metadata": {},
     "output_type": "execute_result"
    }
   ],
   "source": [
    "dat2[['Cost', \"Year\"]]"
   ]
  },
  {
   "cell_type": "code",
   "execution_count": 93,
   "id": "2fd7b78b",
   "metadata": {},
   "outputs": [
    {
     "name": "stdout",
     "output_type": "stream",
     "text": [
      "                            OLS Regression Results                            \n",
      "==============================================================================\n",
      "Dep. Variable:                      y   R-squared:                       0.044\n",
      "Model:                            OLS   Adj. R-squared:                  0.042\n",
      "Method:                 Least Squares   F-statistic:                     22.37\n",
      "Date:                Fri, 01 Sep 2023   Prob (F-statistic):           2.95e-06\n",
      "Time:                        09:34:30   Log-Likelihood:                -3351.7\n",
      "No. Observations:                 490   AIC:                             6707.\n",
      "Df Residuals:                     488   BIC:                             6716.\n",
      "Df Model:                           1                                         \n",
      "Covariance Type:            nonrobust                                         \n",
      "==============================================================================\n",
      "                 coef    std err          t      P>|t|      [0.025      0.975]\n",
      "------------------------------------------------------------------------------\n",
      "const        155.4437     16.209      9.590      0.000     123.597     187.291\n",
      "X           7241.7754   1531.267      4.729      0.000    4233.084    1.03e+04\n",
      "==============================================================================\n",
      "Omnibus:                      142.468   Durbin-Watson:                   1.498\n",
      "Prob(Omnibus):                  0.000   Jarque-Bera (JB):              367.183\n",
      "Skew:                           1.444   Prob(JB):                     1.85e-80\n",
      "Kurtosis:                       6.106   Cond. No.                         150.\n",
      "==============================================================================\n",
      "\n",
      "Notes:\n",
      "[1] Standard Errors assume that the covariance matrix of the errors is correctly specified.\n"
     ]
    },
    {
     "name": "stderr",
     "output_type": "stream",
     "text": [
      "/Users/lillyamirjavadi/opt/anaconda3/lib/python3.9/site-packages/statsmodels/tsa/tsatools.py:142: FutureWarning: In a future version of pandas all arguments of concat except for the argument 'objs' will be keyword-only\n",
      "  x = pd.concat(x[::order], 1)\n"
     ]
    }
   ],
   "source": [
    "# Prepare data for linear regression\n",
    "X = dat2['% of U.S. Spending']\n",
    "y = dat2['Cost']\n",
    "\n",
    "# Combine X and y into a DataFrame\n",
    "regression_data = pd.DataFrame({'X': X, 'y': y})\n",
    "\n",
    "# Drop rows with missing values\n",
    "regression_data = regression_data.dropna()\n",
    "\n",
    "# Add a constant term to the predictor\n",
    "X = sm.add_constant(regression_data['X'])\n",
    "\n",
    "# Fit linear regression model\n",
    "model = sm.OLS(regression_data['y'], X).fit()\n",
    "\n",
    "# Print regression summary\n",
    "print(model.summary())"
   ]
  },
  {
   "cell_type": "code",
   "execution_count": 98,
   "id": "c9bff8d0",
   "metadata": {},
   "outputs": [
    {
     "data": {
      "text/plain": [
       "[<matplotlib.lines.Line2D at 0x7f9d13f28580>]"
      ]
     },
     "execution_count": 98,
     "metadata": {},
     "output_type": "execute_result"
    },
    {
     "data": {
      "image/png": "[encoded data removed]",
      "text/plain": [
       "<Figure size 720x432 with 1 Axes>"
      ]
     },
     "metadata": {},
     "output_type": "display_data"
    }
   ],
   "source": [
    "sns.set(style=\"whitegrid\")\n",
    "plt.figure(figsize=(10, 6))\n",
    "sns.scatterplot(x='X', y='y', data=regression_data, hue = dat2[\"Private or State Run\"], color='blue')\n",
    "plt.plot(regression_data['X'], model.predict(X), color='red', linewidth=2, label='Trend Line')"
   ]
  },
  {
   "cell_type": "markdown",
   "id": "801cb421",
   "metadata": {},
   "source": [
    "Now try with standardizing"
   ]
  },
  {
   "cell_type": "code",
   "execution_count": 99,
   "id": "468392db",
   "metadata": {},
   "outputs": [
    {
     "data": {
      "image/png": "[encoded data removed]",
      "text/plain": [
       "<Figure size 720x432 with 1 Axes>"
      ]
     },
     "metadata": {},
     "output_type": "display_data"
    }
   ],
   "source": [
    "residuals = model.resid\n",
    "\n",
    "# Create a residual plot\n",
    "plt.figure(figsize=(10, 6))\n",
    "sns.scatterplot(x=model.predict(), y=residuals)\n",
    "plt.xlabel('Predicted Values')\n",
    "plt.ylabel('Residuals')\n",
    "plt.title('Residual Plot for Heteroscedasticity')\n",
    "plt.axhline(y=0, color='red', linestyle='--')  # Add a horizontal line at zero for reference\n",
    "plt.show()"
   ]
  },
  {
   "cell_type": "code",
   "execution_count": null,
   "id": "98a6508b",
   "metadata": {},
   "outputs": [],
   "source": []
  }
 ],
 "metadata": {
  "kernelspec": {
   "display_name": "Python 3 (ipykernel)",
   "language": "python",
   "name": "python3"
  },
  "language_info": {
   "codemirror_mode": {
    "name": "ipython",
    "version": 3
   },
   "file_extension": ".py",
   "mimetype": "text/x-python",
   "name": "python",
   "nbconvert_exporter": "python",
   "pygments_lexer": "ipython3",
   "version": "3.9.7"
  }
 },
 "nbformat": 4,
 "nbformat_minor": 5
}
