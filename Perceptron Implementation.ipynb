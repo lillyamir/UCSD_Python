{
 "cells": [
  {
   "cell_type": "code",
   "execution_count": 1,
   "id": "f87e6a6b",
   "metadata": {},
   "outputs": [],
   "source": [
    "import numpy as np"
   ]
  },
  {
   "cell_type": "markdown",
   "id": "a04203b9",
   "metadata": {},
   "source": [
    "### Creating a perceptron class to classify some data "
   ]
  },
  {
   "cell_type": "code",
   "execution_count": 4,
   "id": "24e32c5d",
   "metadata": {},
   "outputs": [],
   "source": [
    "class Perceptron:\n",
    "    #Inititalize the perceptron class\n",
    "    \n",
    "    def __init__(self, learning_rate = 0.1, max_epochs = 1000):\n",
    "        self.learning_rate = learning_rate\n",
    "        self.max_epochs = max_epochs\n",
    "        \n",
    "    \n",
    "    #Create a method to fit the perceptron, with X as the data and y as the labels(outcome I think lol)\n",
    "    \n",
    "    def fit(self, X, y):\n",
    "    # Add a bias term (x0 = 1) to the input data, accounting for threshold data\n",
    "    #Create the augmented feature matrix\n",
    "        X = np.c_[np.ones(X.shape[0]), X]\n",
    "    #Create weight vector(initialize at 0)\n",
    "        self.weights = np.zeros(X.shape[1])\n",
    "        \n",
    "        for epoch in range(self.max_epochs):\n",
    "            #Initialize the # of misclassified data points at 0 (counter)\n",
    "            misclassified = 0\n",
    "            for i in range(X.shape[0]):\n",
    "            #If dot product is ≤ 0, then it is misclassified.\n",
    "                if y[i] * np.dot(X[i], self.weights) <= 0:\n",
    "                    #Updating the params\n",
    "                    self.weights += self.learning_rate * y[i] * X[i]\n",
    "                    #And count it as a misclassification\n",
    "                    misclassified += 1\n",
    "            if misclassified == 0:\n",
    "                break\n",
    "            #Aka don't do anything it was correctly classified\n",
    "            \n",
    "            \n",
    "    #Now I'll create a method for making predictions\n",
    "    \n",
    "    def predict(self, X):\n",
    "        # Add a bias term (x0 = 1) to the input data\n",
    "        X = np.c_[np.ones(X.shape[0]), X]\n",
    "        #Now make predictions sign function \n",
    "        #applied to the dot product of the test data and the weight vector\n",
    "        predictions = []\n",
    "        for i in range(X.shape[0]):\n",
    "            prediction = np.sign(np.dot(X[i], self.weights))\n",
    "            predictions.append(prediction)\n",
    "        return predictions\n",
    "\n",
    "    "
   ]
  },
  {
   "cell_type": "markdown",
   "id": "69708d81",
   "metadata": {},
   "source": [
    "### Applying the perceptron to some example data"
   ]
  },
  {
   "cell_type": "code",
   "execution_count": 5,
   "id": "85f9fa5c",
   "metadata": {},
   "outputs": [],
   "source": [
    "#Sample data vectors\n",
    "X_train = np.array([[-1, -1], [1, 1], [1, -1], [-1, 1], [0.5, 0.5], [-0.5, -0.5], [0.5, -0.5], [-0.5, 0.5]])\n",
    "y_train = np.array([1, 1, -1, -1, 1, 1, -1, -1])\n",
    "\n",
    "#Class A: 1\n",
    "#Class B: -1"
   ]
  },
  {
   "cell_type": "code",
   "execution_count": 6,
   "id": "c585b9a7",
   "metadata": {},
   "outputs": [],
   "source": [
    "#Creating a Perceptron instance\n",
    "perceptron = Perceptron(learning_rate=0.1, max_epochs=1000)\n",
    "\n",
    "# Train the Perceptron\n",
    "perceptron.fit(X_train, y_train)\n",
    "\n",
    "# Define some test data\n",
    "X_test = np.array([[0, 0], [2, 2], [0, 2], [2, 0]])\n",
    "\n",
    "# Make predictions\n",
    "predictions = perceptron.predict(X_test)\n",
    "\n"
   ]
  },
  {
   "cell_type": "code",
   "execution_count": 7,
   "id": "4f8377fc",
   "metadata": {},
   "outputs": [
    {
     "name": "stdout",
     "output_type": "stream",
     "text": [
      "Data point [0 0] belongs to Class B\n",
      "Data point [2 2] belongs to Class A\n",
      "Data point [0 2] belongs to Class A\n",
      "Data point [2 0] belongs to Class B\n"
     ]
    }
   ],
   "source": [
    "# Display the predictions\n",
    "for i, prediction in enumerate(predictions):\n",
    "    if prediction == 1:\n",
    "        print(f\"Data point {X_test[i]} belongs to Class A\")\n",
    "    else:\n",
    "        print(f\"Data point {X_test[i]} belongs to Class B\")\n"
   ]
  },
  {
   "cell_type": "code",
   "execution_count": null,
   "id": "e319b6a7",
   "metadata": {},
   "outputs": [],
   "source": []
  }
 ],
 "metadata": {
  "kernelspec": {
   "display_name": "Python 3 (ipykernel)",
   "language": "python",
   "name": "python3"
  },
  "language_info": {
   "codemirror_mode": {
    "name": "ipython",
    "version": 3
   },
   "file_extension": ".py",
   "mimetype": "text/x-python",
   "name": "python",
   "nbconvert_exporter": "python",
   "pygments_lexer": "ipython3",
   "version": "3.9.7"
  }
 },
 "nbformat": 4,
 "nbformat_minor": 5
}
